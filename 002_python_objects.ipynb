{
 "cells": [
  {
   "cell_type": "markdown",
   "id": "5db1b620",
   "metadata": {},
   "source": [
    "# Classes and Objects in Python\n",
    "\n",
    "In Python, everything is an object\n",
    "\n",
    "#### Types\n",
    "\n",
    "- int\n",
    "- float\n",
    "- string\n",
    "- list\n",
    "- dictionary\n",
    "- bool"
   ]
  },
  {
   "cell_type": "code",
   "execution_count": 1,
   "id": "b12d1f08",
   "metadata": {},
   "outputs": [
    {
     "name": "stdout",
     "output_type": "stream",
     "text": [
      "<class 'int'>\n"
     ]
    }
   ],
   "source": [
    "a = 5\n",
    "print(type(a))"
   ]
  },
  {
   "cell_type": "code",
   "execution_count": 3,
   "id": "e081d4e5",
   "metadata": {},
   "outputs": [],
   "source": [
    "a_list = [2,5,2,8,12,6,2]"
   ]
  },
  {
   "cell_type": "code",
   "execution_count": 4,
   "id": "278b3dd7",
   "metadata": {},
   "outputs": [
    {
     "name": "stdout",
     "output_type": "stream",
     "text": [
      "[2, 2, 2, 5, 6, 8, 12]\n"
     ]
    }
   ],
   "source": [
    "a_list.sort()\n",
    "print(a_list)"
   ]
  },
  {
   "cell_type": "markdown",
   "id": "69e99e2a",
   "metadata": {},
   "source": [
    "# Create your own class"
   ]
  },
  {
   "cell_type": "code",
   "execution_count": 5,
   "id": "b9473702",
   "metadata": {},
   "outputs": [],
   "source": [
    "class My_first_class:\n",
    "    i = 5\n",
    "    def f(x):\n",
    "        return x**2"
   ]
  },
  {
   "cell_type": "code",
   "execution_count": 6,
   "id": "d91ff5db",
   "metadata": {},
   "outputs": [],
   "source": [
    "my_object = My_first_class"
   ]
  },
  {
   "cell_type": "code",
   "execution_count": 7,
   "id": "f9f15178",
   "metadata": {},
   "outputs": [
    {
     "data": {
      "text/plain": [
       "5"
      ]
     },
     "execution_count": 7,
     "metadata": {},
     "output_type": "execute_result"
    }
   ],
   "source": [
    "my_object.i"
   ]
  },
  {
   "cell_type": "code",
   "execution_count": 8,
   "id": "dd451fed",
   "metadata": {},
   "outputs": [
    {
     "data": {
      "text/plain": [
       "9"
      ]
     },
     "execution_count": 8,
     "metadata": {},
     "output_type": "execute_result"
    }
   ],
   "source": [
    "my_object.f(3)"
   ]
  },
  {
   "cell_type": "code",
   "execution_count": 10,
   "id": "ff556cf5",
   "metadata": {},
   "outputs": [],
   "source": [
    "class My_first_class:\n",
    "    i = 5\n",
    "    def f(x):\n",
    "        return x**2\n",
    "    def __init__(self, ivalue):\n",
    "        self.i = ivalue"
   ]
  },
  {
   "cell_type": "code",
   "execution_count": 11,
   "id": "11d5331f",
   "metadata": {},
   "outputs": [],
   "source": [
    "x = My_first_class(800)"
   ]
  },
  {
   "cell_type": "code",
   "execution_count": 12,
   "id": "07d3bfd3",
   "metadata": {},
   "outputs": [
    {
     "data": {
      "text/plain": [
       "800"
      ]
     },
     "execution_count": 12,
     "metadata": {},
     "output_type": "execute_result"
    }
   ],
   "source": [
    "x.i"
   ]
  },
  {
   "cell_type": "code",
   "execution_count": null,
   "id": "0bf22d94",
   "metadata": {},
   "outputs": [],
   "source": []
  }
 ],
 "metadata": {
  "kernelspec": {
   "display_name": "Python 3 (ipykernel)",
   "language": "python",
   "name": "python3"
  },
  "language_info": {
   "codemirror_mode": {
    "name": "ipython",
    "version": 3
   },
   "file_extension": ".py",
   "mimetype": "text/x-python",
   "name": "python",
   "nbconvert_exporter": "python",
   "pygments_lexer": "ipython3",
   "version": "3.9.16"
  }
 },
 "nbformat": 4,
 "nbformat_minor": 5
}
