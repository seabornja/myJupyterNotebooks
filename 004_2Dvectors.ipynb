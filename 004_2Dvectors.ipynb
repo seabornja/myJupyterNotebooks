{
 "cells": [
  {
   "cell_type": "code",
   "execution_count": 1,
   "id": "2bec9fa5",
   "metadata": {},
   "outputs": [],
   "source": [
    "import numpy as np"
   ]
  },
  {
   "cell_type": "code",
   "execution_count": 2,
   "id": "fc34c004",
   "metadata": {},
   "outputs": [],
   "source": [
    "A = np.array([4, -2])\n",
    "B = np.array([-3, 5])"
   ]
  },
  {
   "cell_type": "code",
   "execution_count": 3,
   "id": "63417001",
   "metadata": {},
   "outputs": [
    {
     "name": "stdout",
     "output_type": "stream",
     "text": [
      "[ 7 -7]\n"
     ]
    }
   ],
   "source": [
    "C = A - B\n",
    "print(C)"
   ]
  },
  {
   "cell_type": "code",
   "execution_count": 4,
   "id": "72c9ead9",
   "metadata": {},
   "outputs": [],
   "source": [
    "from numpy.linalg import norm"
   ]
  },
  {
   "cell_type": "code",
   "execution_count": 5,
   "id": "0c885cf5",
   "metadata": {},
   "outputs": [
    {
     "data": {
      "text/plain": [
       "9.899494936611665"
      ]
     },
     "execution_count": 5,
     "metadata": {},
     "output_type": "execute_result"
    }
   ],
   "source": [
    "norm(C, ord=2)"
   ]
  },
  {
   "cell_type": "code",
   "execution_count": 6,
   "id": "453eb00e",
   "metadata": {},
   "outputs": [
    {
     "data": {
      "text/plain": [
       "4.47213595499958"
      ]
     },
     "execution_count": 6,
     "metadata": {},
     "output_type": "execute_result"
    }
   ],
   "source": [
    "norm(A, ord=2)"
   ]
  },
  {
   "cell_type": "code",
   "execution_count": 7,
   "id": "5b072f32",
   "metadata": {},
   "outputs": [
    {
     "data": {
      "text/plain": [
       "5.830951894845301"
      ]
     },
     "execution_count": 7,
     "metadata": {},
     "output_type": "execute_result"
    }
   ],
   "source": [
    "norm(B, ord=2)"
   ]
  },
  {
   "cell_type": "code",
   "execution_count": 8,
   "id": "4d6e46f8",
   "metadata": {},
   "outputs": [],
   "source": [
    "from scipy.spatial.distance import cdist"
   ]
  },
  {
   "cell_type": "code",
   "execution_count": 9,
   "id": "4a0da266",
   "metadata": {},
   "outputs": [
    {
     "name": "stdout",
     "output_type": "stream",
     "text": [
      "(2,)\n",
      "(2,)\n"
     ]
    }
   ],
   "source": [
    "print(A.shape)\n",
    "print(B.shape)"
   ]
  },
  {
   "cell_type": "code",
   "execution_count": 10,
   "id": "54153d5d",
   "metadata": {},
   "outputs": [
    {
     "name": "stdout",
     "output_type": "stream",
     "text": [
      "[[ 4 -2]]\n",
      "(1, 2)\n",
      "[[-3  5]]\n",
      "(1, 2)\n"
     ]
    }
   ],
   "source": [
    "A = A.reshape((1, 2))\n",
    "B = B.reshape((1, 2))\n",
    "print(A)\n",
    "print(A.shape)\n",
    "print(B)\n",
    "print(B.shape)"
   ]
  },
  {
   "cell_type": "code",
   "execution_count": 11,
   "id": "13e54a69",
   "metadata": {},
   "outputs": [
    {
     "name": "stdout",
     "output_type": "stream",
     "text": [
      "[[9.89949494]]\n"
     ]
    }
   ],
   "source": [
    "print(cdist(A, B, metric = 'euclidean'))"
   ]
  },
  {
   "cell_type": "code",
   "execution_count": 14,
   "id": "575506a2",
   "metadata": {},
   "outputs": [
    {
     "name": "stdout",
     "output_type": "stream",
     "text": [
      "-22\n"
     ]
    }
   ],
   "source": [
    "A = np.array([4, -2])\n",
    "B = np.array([-3, 5])\n",
    "print(np.dot(A, B))"
   ]
  },
  {
   "cell_type": "code",
   "execution_count": 15,
   "id": "9e9a559e",
   "metadata": {},
   "outputs": [
    {
     "name": "stdout",
     "output_type": "stream",
     "text": [
      "-0.8436614877321074\n",
      "2.5748634360662868\n"
     ]
    }
   ],
   "source": [
    "cos_angle = np.dot(A, B) / norm(A) / norm(B)\n",
    "print(cos_angle)\n",
    "print(np.arccos(cos_angle))"
   ]
  },
  {
   "cell_type": "code",
   "execution_count": null,
   "id": "ddc5e8c3",
   "metadata": {},
   "outputs": [],
   "source": []
  }
 ],
 "metadata": {
  "kernelspec": {
   "display_name": "Python 3 (ipykernel)",
   "language": "python",
   "name": "python3"
  },
  "language_info": {
   "codemirror_mode": {
    "name": "ipython",
    "version": 3
   },
   "file_extension": ".py",
   "mimetype": "text/x-python",
   "name": "python",
   "nbconvert_exporter": "python",
   "pygments_lexer": "ipython3",
   "version": "3.9.16"
  }
 },
 "nbformat": 4,
 "nbformat_minor": 5
}
