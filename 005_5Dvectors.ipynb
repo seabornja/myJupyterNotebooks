{
 "cells": [
  {
   "cell_type": "code",
   "execution_count": 1,
   "id": "3aa52069",
   "metadata": {},
   "outputs": [],
   "source": [
    "import numpy as np"
   ]
  },
  {
   "cell_type": "code",
   "execution_count": 2,
   "id": "a7b7ad77",
   "metadata": {},
   "outputs": [],
   "source": [
    "A = np.array([1, -2, 16, 40, 0])\n",
    "B = np.array([3.16, 25, -3, -6.5, 108])"
   ]
  },
  {
   "cell_type": "code",
   "execution_count": 3,
   "id": "ca1fb170",
   "metadata": {},
   "outputs": [
    {
     "name": "stdout",
     "output_type": "stream",
     "text": [
      "[  -2.16  -27.     19.     46.5  -108.  ]\n"
     ]
    }
   ],
   "source": [
    "C = A - B\n",
    "print(C)"
   ]
  },
  {
   "cell_type": "code",
   "execution_count": 4,
   "id": "fd40d380",
   "metadata": {},
   "outputs": [],
   "source": [
    "from numpy.linalg import norm"
   ]
  },
  {
   "cell_type": "code",
   "execution_count": 5,
   "id": "18b9170d",
   "metadata": {},
   "outputs": [
    {
     "data": {
      "text/plain": [
       "122.1511997485084"
      ]
     },
     "execution_count": 5,
     "metadata": {},
     "output_type": "execute_result"
    }
   ],
   "source": [
    "norm(C, ord=2)"
   ]
  },
  {
   "cell_type": "code",
   "execution_count": 6,
   "id": "4cba51c6",
   "metadata": {},
   "outputs": [
    {
     "data": {
      "text/plain": [
       "43.139309220245984"
      ]
     },
     "execution_count": 6,
     "metadata": {},
     "output_type": "execute_result"
    }
   ],
   "source": [
    "norm(A, ord=2)"
   ]
  },
  {
   "cell_type": "code",
   "execution_count": 7,
   "id": "f401663d",
   "metadata": {},
   "outputs": [
    {
     "data": {
      "text/plain": [
       "111.13161386392262"
      ]
     },
     "execution_count": 7,
     "metadata": {},
     "output_type": "execute_result"
    }
   ],
   "source": [
    "norm(B, ord=2)"
   ]
  },
  {
   "cell_type": "code",
   "execution_count": null,
   "id": "11985079",
   "metadata": {},
   "outputs": [],
   "source": []
  }
 ],
 "metadata": {
  "kernelspec": {
   "display_name": "Python 3 (ipykernel)",
   "language": "python",
   "name": "python3"
  },
  "language_info": {
   "codemirror_mode": {
    "name": "ipython",
    "version": 3
   },
   "file_extension": ".py",
   "mimetype": "text/x-python",
   "name": "python",
   "nbconvert_exporter": "python",
   "pygments_lexer": "ipython3",
   "version": "3.9.16"
  }
 },
 "nbformat": 4,
 "nbformat_minor": 5
}
