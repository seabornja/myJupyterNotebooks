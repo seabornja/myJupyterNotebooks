{
 "cells": [
  {
   "cell_type": "code",
   "execution_count": 1,
   "id": "3aa52069",
   "metadata": {},
   "outputs": [],
   "source": [
    "import numpy as np"
   ]
  },
  {
   "cell_type": "code",
   "execution_count": 2,
   "id": "a7b7ad77",
   "metadata": {},
   "outputs": [],
   "source": [
    "A = np.array([1, -2, 16, 40, 0])\n",
    "B = np.array([3.16, 25, -3, -6.5, 108])"
   ]
  },
  {
   "cell_type": "code",
   "execution_count": 3,
   "id": "ca1fb170",
   "metadata": {},
   "outputs": [
    {
     "name": "stdout",
     "output_type": "stream",
     "text": [
      "[  -2.16  -27.     19.     46.5  -108.  ]\n"
     ]
    }
   ],
   "source": [
    "C = A - B\n",
    "print(C)"
   ]
  },
  {
   "cell_type": "code",
   "execution_count": 4,
   "id": "fd40d380",
   "metadata": {},
   "outputs": [],
   "source": [
    "from numpy.linalg import norm"
   ]
  },
  {
   "cell_type": "code",
   "execution_count": 5,
   "id": "18b9170d",
   "metadata": {},
   "outputs": [
    {
     "data": {
      "text/plain": [
       "122.1511997485084"
      ]
     },
     "execution_count": 5,
     "metadata": {},
     "output_type": "execute_result"
    }
   ],
   "source": [
    "norm(C, ord=2)"
   ]
  },
  {
   "cell_type": "code",
   "execution_count": 6,
   "id": "4cba51c6",
   "metadata": {},
   "outputs": [
    {
     "data": {
      "text/plain": [
       "43.139309220245984"
      ]
     },
     "execution_count": 6,
     "metadata": {},
     "output_type": "execute_result"
    }
   ],
   "source": [
    "norm(A, ord=2)"
   ]
  },
  {
   "cell_type": "code",
   "execution_count": 7,
   "id": "f401663d",
   "metadata": {},
   "outputs": [
    {
     "data": {
      "text/plain": [
       "111.13161386392262"
      ]
     },
     "execution_count": 7,
     "metadata": {},
     "output_type": "execute_result"
    }
   ],
   "source": [
    "norm(B, ord=2)"
   ]
  },
  {
   "cell_type": "code",
   "execution_count": 8,
   "id": "11985079",
   "metadata": {},
   "outputs": [],
   "source": [
    "from scipy.spatial.distance import cdist"
   ]
  },
  {
   "cell_type": "code",
   "execution_count": 9,
   "id": "2a030e67",
   "metadata": {},
   "outputs": [
    {
     "name": "stdout",
     "output_type": "stream",
     "text": [
      "(5,)\n",
      "(5,)\n"
     ]
    }
   ],
   "source": [
    "print(A.shape)\n",
    "print(B.shape)"
   ]
  },
  {
   "cell_type": "code",
   "execution_count": 10,
   "id": "82612842",
   "metadata": {},
   "outputs": [
    {
     "name": "stdout",
     "output_type": "stream",
     "text": [
      "[[ 1 -2 16 40  0]]\n",
      "(1, 5)\n",
      "[[  3.16  25.    -3.    -6.5  108.  ]]\n",
      "(1, 5)\n"
     ]
    }
   ],
   "source": [
    "A = A.reshape((1, 5))\n",
    "B = B.reshape((1, 5))\n",
    "print(A)\n",
    "print(A.shape)\n",
    "print(B)\n",
    "print(B.shape)"
   ]
  },
  {
   "cell_type": "code",
   "execution_count": 11,
   "id": "2c1ee139",
   "metadata": {},
   "outputs": [
    {
     "name": "stdout",
     "output_type": "stream",
     "text": [
      "[[122.15119975]]\n"
     ]
    }
   ],
   "source": [
    "print(cdist(A, B, metric = 'euclidean'))"
   ]
  },
  {
   "cell_type": "code",
   "execution_count": 12,
   "id": "87b10f87",
   "metadata": {},
   "outputs": [
    {
     "name": "stdout",
     "output_type": "stream",
     "text": [
      "-354.84000000000003\n"
     ]
    }
   ],
   "source": [
    "A = np.array([1, -2, 16, 40, 0])\n",
    "B = np.array([3.16, 25, -3, -6.5, 108])\n",
    "print(np.dot(A, B))"
   ]
  },
  {
   "cell_type": "code",
   "execution_count": 14,
   "id": "921b9e20",
   "metadata": {},
   "outputs": [
    {
     "name": "stdout",
     "output_type": "stream",
     "text": [
      "-0.07401534413719321\n",
      "1.6448794174297847\n"
     ]
    }
   ],
   "source": [
    "cos_angle = np.dot(A, B) / norm(A) / norm(B)\n",
    "print(cos_angle)\n",
    "print(np.arccos(cos_angle))"
   ]
  },
  {
   "cell_type": "code",
   "execution_count": null,
   "id": "4447d9f6",
   "metadata": {},
   "outputs": [],
   "source": []
  }
 ],
 "metadata": {
  "kernelspec": {
   "display_name": "Python 3 (ipykernel)",
   "language": "python",
   "name": "python3"
  },
  "language_info": {
   "codemirror_mode": {
    "name": "ipython",
    "version": 3
   },
   "file_extension": ".py",
   "mimetype": "text/x-python",
   "name": "python",
   "nbconvert_exporter": "python",
   "pygments_lexer": "ipython3",
   "version": "3.9.16"
  }
 },
 "nbformat": 4,
 "nbformat_minor": 5
}
